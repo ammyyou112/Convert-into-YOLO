{
 "cells": [
  {
   "cell_type": "code",
   "execution_count": 1,
   "id": "524d5445",
   "metadata": {},
   "outputs": [],
   "source": [
    "import os\n",
    "import cv2\n",
    "import random\n",
    "import numpy as np\n",
    "from multiprocessing import Pool\n",
    "import json"
   ]
  },
  {
   "cell_type": "code",
   "execution_count": 2,
   "id": "efc84893",
   "metadata": {},
   "outputs": [
    {
     "name": "stdout",
     "output_type": "stream",
     "text": [
      "{'_via_settings': {'ui': {'annotation_editor_height': 25, 'annotation_editor_fontsize': 0.8, 'leftsidebar_width': 18, 'image_grid': {'img_height': 80, 'rshape_fill': 'none', 'rshape_fill_opacity': 0.3, 'rshape_stroke': 'yellow', 'rshape_stroke_width': 2, 'show_region_shape': True, 'show_image_policy': 'all'}, 'image': {'region_label': 'class', 'region_color': '__via_default_region_color__', 'region_label_font': '10px Sans', 'on_image_annotation_editor_placement': 'NEAR_REGION'}}, 'core': {'buffer_size': 18, 'filepath': {}, 'default_filepath': ''}, 'project': {'name': 'via_project_18Oct2022_11h49m'}}, '_via_img_metadata': {'1.jpeg45602': {'filename': '1.jpeg', 'size': 45602, 'regions': [{'shape_attributes': {'name': 'rect', 'x': 284, 'y': 27, 'width': 365, 'height': 478}, 'region_attributes': {'class': {'dog': True}}}], 'file_attributes': {}}, '2.jpeg4669': {'filename': '2.jpeg', 'size': 4669, 'regions': [{'shape_attributes': {'name': 'rect', 'x': 6, 'y': 39, 'width': 150, 'height': 107}, 'region_attributes': {'class': {'dog': True}}}, {'shape_attributes': {'name': 'rect', 'x': 160, 'y': 77, 'width': 99, 'height': 65}, 'region_attributes': {'class': {'cat': True}}}], 'file_attributes': {}}, '3.jpeg6828': {'filename': '3.jpeg', 'size': 6828, 'regions': [{'shape_attributes': {'name': 'rect', 'x': 57, 'y': 3, 'width': 186, 'height': 141}, 'region_attributes': {'class': {'cat': True}}}], 'file_attributes': {}}, '4.jpeg198685': {'filename': '4.jpeg', 'size': 198685, 'regions': [{'shape_attributes': {'name': 'rect', 'x': 85, 'y': 307, 'width': 830, 'height': 1442}, 'region_attributes': {'class': {'cat': True}}}], 'file_attributes': {}}, '5.jpeg54509': {'filename': '5.jpeg', 'size': 54509, 'regions': [{'shape_attributes': {'name': 'rect', 'x': 33, 'y': 65, 'width': 735, 'height': 738}, 'region_attributes': {'class': {'dog': True}}}], 'file_attributes': {}}, '6.jpeg60092': {'filename': '6.jpeg', 'size': 60092, 'regions': [{'shape_attributes': {'name': 'rect', 'x': 89, 'y': 55, 'width': 140, 'height': 190}, 'region_attributes': {'class': {'dog': True}}}, {'shape_attributes': {'name': 'rect', 'x': 242, 'y': 142, 'width': 167, 'height': 115}, 'region_attributes': {'class': {'cat': True}}}], 'file_attributes': {}}, '7.jpeg394361': {'filename': '7.jpeg', 'size': 394361, 'regions': [{'shape_attributes': {'name': 'rect', 'x': 612, 'y': 192, 'width': 269, 'height': 234}, 'region_attributes': {'class': {'dog': True}}}, {'shape_attributes': {'name': 'rect', 'x': 321, 'y': 252, 'width': 267, 'height': 162}, 'region_attributes': {'class': {'cat': True}}}], 'file_attributes': {}}}, '_via_attributes': {'region': {'class': {'type': 'checkbox', 'description': '', 'options': {'\"\"': '', 'cat': '', 'dog': ''}, 'default_options': {}}}, 'file': {}}}\n"
     ]
    }
   ],
   "source": [
    "with open('cat_dog/cat_dog_annotations.json','r') as f:\n",
    "    data = json.load(f)\n",
    "    print(data)"
   ]
  },
  {
   "cell_type": "code",
   "execution_count": 3,
   "id": "4bf1d6a4",
   "metadata": {},
   "outputs": [],
   "source": [
    "classes = ['dog', 'cat']\n",
    "classes_ids = {'dog': 1, 'cat': 0}"
   ]
  },
  {
   "cell_type": "code",
   "execution_count": 4,
   "id": "a90c5ae5",
   "metadata": {},
   "outputs": [],
   "source": [
    "brightness_range = [0.7, 1.3]\n",
    "noise_range = [0.05, 0.15]"
   ]
  },
  {
   "cell_type": "code",
   "execution_count": 5,
   "id": "50b48cab",
   "metadata": {},
   "outputs": [],
   "source": [
    "def convert_to_yolo(image_path, via_data, yolo_path):\n",
    "    img = cv2.imread(image_path)\n",
    "    height, width, _= img.shape\n",
    "    \n",
    "    image_id = os.path.splitext(os.path.basename(image_path))[0]\n",
    "    \n",
    "    with open(os.path.join(yolo_path, f\"{image_id}.txt\"), 'w') as f:\n",
    "        for region in via_data['_via_img_metadata'][image_id]['regions']:\n",
    "            cetagory = list(region['region_attributes']['class'].keys()[0])\n",
    "            cetagory_id = class_ids[cetagory]\n",
    "            \n",
    "            x = region['shape_attributes']['x']\n",
    "            y = region['shape_attributes']['x']\n",
    "            w = region['shape_attributes']['width']\n",
    "            h = region['shape_attributes']['height']\n",
    "            \n",
    "            x_center = (x + w / 2) / width\n",
    "            y_center = (y + h / 2) / height\n",
    "            w_norm = w / width\n",
    "            h_norm = h / height\n",
    "            \n",
    "            f.write(f\"{cetagory_id} {x_center:.6f} {y_center:.6f} {w_norm:.6f} {h_norm:.6f}\\n\")\n",
    "        for i in range(1, 6):\n",
    "            brightness_factor = random.uniform(*brightness_range)\n",
    "            img_bright = np.clip(img * brightness_factor, 0, 255).astype(np.uint8)\n",
    "            cv2.imwrite(os.path.join(yolo_path, f\"{image_id}_brightness_{i}.jpg\"), img_bright)\n",
    "            \n",
    "            with open(os.path.join(yolo_path, f\"{image_id}_brightness_{i}.txt\")):\n",
    "                f.write(line)\n",
    "                \n",
    "            noise_factor = random.uniform(*noise_range)\n",
    "            img_noise = np.clip(img + noise_factor * np.random.randn(*img.shape), 0, 255).astype(np.uint8)\n",
    "            cv2.imwrite(os.path.join(yolo_path, f\"{image_id}_noise_{i}.jpg\"), img_noise)\n",
    "            \n",
    "            with open(os.path.join(yolo_path, f\"{image_id}_noise_{i}.txt\")):\n",
    "                f.write(line)"
   ]
  },
  {
   "cell_type": "code",
   "execution_count": 6,
   "id": "aef2b1c9",
   "metadata": {},
   "outputs": [
    {
     "name": "stdout",
     "output_type": "stream",
     "text": [
      "Augmentation Complete\n"
     ]
    }
   ],
   "source": [
    "def augment_images(via_path, image_dir, yolo_path):\n",
    "    with open(via_path, \"r\") as f:\n",
    "        via_data = json.load(f)\n",
    "        \n",
    "        os.makedirs(image_dir, exist_ok=True)\n",
    "        os.makedirs(yolo_path, exist_ok=True)\n",
    "        \n",
    "        for filename in os.listdir(image_dir):\n",
    "            if not filename.lower().endswith(('.jpg', 'jpeg', 'png', 'bmp')):\n",
    "                continue\n",
    "            \n",
    "            image_path = os.path.join(image_dir, filename)\n",
    "            yolo_name = os.path.splitext(filename)[0]\n",
    "            yolo_path_image = os.path.join(yolo_path, yolo_name)\n",
    "            \n",
    "            convert_to_yolo(via_data, image_path, yolo_path_image)\n",
    "            \n",
    "            img = cv2.imread(image_path)\n",
    "\n",
    "            for i in range(1, 6):\n",
    "                brightness_factor = random.uniform(*brightness_range)\n",
    "                img_bright = np.clip(img * brightness_factor, 0, 255).astype(np.uint8)\n",
    "                cv2.imwrite(os.path.join(image_dir, f\"{yolo_name}_brightness_{i}.jpg\"), img_bright)\n",
    "\n",
    "                with open(os.path.join(yolo_path, f\"{yolo_name}_brightness_{i}.txt\"), 'w') as f:\n",
    "                    for line in open(os.path.join(yolo_path, f\"{yolo_name}.txt\")):\n",
    "                        f.write(line)\n",
    "\n",
    "                noise_factor = random.uniform(*noise_range)\n",
    "                img_noise = np.clip(img + noise_factor * np.random.randn(*img.shape), 0, 255).astype(np.uint8)\n",
    "                cv2.imwrite(os.path.join(image_dir, f\"{yolo_name}_noise_{i}.jpg\"), img_noise)\n",
    "\n",
    "                with open(os.path.join(yolo_path, f\"{yolo_name}_noise_{i}.txt\"), w) as f:\n",
    "                    for line in open(os.path.join(yolo_path, f\"{yolo_name}.txt\")):\n",
    "                        f.write(line)\n",
    "print(\"Augmentation Complete\")\n",
    "            "
   ]
  },
  {
   "cell_type": "code",
   "execution_count": null,
   "id": "c9900caf",
   "metadata": {},
   "outputs": [],
   "source": []
  }
 ],
 "metadata": {
  "kernelspec": {
   "display_name": "Python 3 (ipykernel)",
   "language": "python",
   "name": "python3"
  },
  "language_info": {
   "codemirror_mode": {
    "name": "ipython",
    "version": 3
   },
   "file_extension": ".py",
   "mimetype": "text/x-python",
   "name": "python",
   "nbconvert_exporter": "python",
   "pygments_lexer": "ipython3",
   "version": "3.9.13"
  }
 },
 "nbformat": 4,
 "nbformat_minor": 5
}
